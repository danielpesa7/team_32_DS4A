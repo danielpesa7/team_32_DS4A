{
 "cells": [
  {
   "cell_type": "code",
   "execution_count": 1,
   "metadata": {},
   "outputs": [],
   "source": [
    "#Import the libraries that we are going to use\n",
    "import pandas as pd\n",
    "import time\n",
    "#Import shapely for polygons visualization\n",
    "from shapely.geometry import Point\n",
    "from shapely.geometry.polygon import Polygon"
   ]
  },
  {
   "cell_type": "code",
   "execution_count": 2,
   "metadata": {},
   "outputs": [],
   "source": [
    "#Read geographic data as pandas dataframe\n",
    "geographics = pd.read_csv('geographic.csv')\n",
    "\n",
    "#Initialize nta dictionary\n",
    "nta_dictionary = {}\n",
    "for nta in geographics.columns:\n",
    "    nta_dictionary[nta] = ''"
   ]
  },
  {
   "cell_type": "code",
   "execution_count": 3,
   "metadata": {},
   "outputs": [],
   "source": [
    "#Create a dictionary for each NTA with longitude and latitude as values\n",
    "for nta in nta_dictionary:\n",
    "    latitude = []\n",
    "    longitude = [] \n",
    "    for i in geographics.loc[:,nta].values:\n",
    "        if i < 0:\n",
    "            latitude.append(i)\n",
    "        elif i > 0:\n",
    "            longitude.append(i)\n",
    "    nta_dictionary[nta] = [longitude,latitude]"
   ]
  },
  {
   "cell_type": "code",
   "execution_count": 4,
   "metadata": {},
   "outputs": [],
   "source": [
    "#Create a dictionary with nta as key and its polygon as value\n",
    "nta_dictionary_lat_lon = {}\n",
    "for nta in nta_dictionary.keys():\n",
    "    polygon = []\n",
    "    for lat,lon in zip(nta_dictionary[nta][0],nta_dictionary[nta][1]):\n",
    "        lat_lon_tuple = (lat,lon)\n",
    "        polygon.append(lat_lon_tuple)\n",
    "        nta_dictionary_lat_lon[nta] = polygon"
   ]
  },
  {
   "cell_type": "code",
   "execution_count": 5,
   "metadata": {},
   "outputs": [],
   "source": [
    "#Read Uber trips 2014 from csv file\n",
    "uber_trips_2014 = pd.read_csv('uber_trips_2014.csv')"
   ]
  },
  {
   "cell_type": "code",
   "execution_count": 6,
   "metadata": {},
   "outputs": [],
   "source": [
    "#Define a range to process the dataframe as chunks \n",
    "cut_range = [0,100]"
   ]
  },
  {
   "cell_type": "code",
   "execution_count": 7,
   "metadata": {},
   "outputs": [],
   "source": [
    "#Cut original dataframe with the cut_range range\n",
    "df_wip = uber_trips_2014.loc[cut_range[0]:cut_range[1]]"
   ]
  },
  {
   "cell_type": "code",
   "execution_count": 8,
   "metadata": {},
   "outputs": [
    {
     "name": "stdout",
     "output_type": "stream",
     "text": [
      "CPU times: user 568 ms, sys: 92 µs, total: 569 ms\n",
      "Wall time: 570 ms\n"
     ]
    }
   ],
   "source": [
    "%%time\n",
    "#Map every pickup point in every polygon to know where it fits\n",
    "nta_serie = []\n",
    "idx_dic = {}\n",
    "#uber_trips_2014.shape[0]//10\n",
    "for i in range(cut_range[0],cut_range[1]):\n",
    "    point = Point(df_wip['pickup_latitude'][i],df_wip['pickup_longitude'][i])\n",
    "    for j in nta_dictionary_lat_lon.keys():\n",
    "        polygon = Polygon(nta_dictionary_lat_lon[j])\n",
    "        if polygon.contains(point):\n",
    "            idx_dic[i] = j\n",
    "            break\n",
    "        else:\n",
    "            pass"
   ]
  },
  {
   "cell_type": "code",
   "execution_count": 9,
   "metadata": {},
   "outputs": [],
   "source": [
    "#Create deep copy of Uber dataframe\n",
    "df_test = df_wip.copy()"
   ]
  },
  {
   "cell_type": "code",
   "execution_count": 10,
   "metadata": {},
   "outputs": [],
   "source": [
    "#Add nta column\n",
    "df_test['Nta'] = pd.Series(idx_dic)"
   ]
  },
  {
   "cell_type": "code",
   "execution_count": 11,
   "metadata": {},
   "outputs": [
    {
     "data": {
      "text/html": [
       "<div>\n",
       "<style scoped>\n",
       "    .dataframe tbody tr th:only-of-type {\n",
       "        vertical-align: middle;\n",
       "    }\n",
       "\n",
       "    .dataframe tbody tr th {\n",
       "        vertical-align: top;\n",
       "    }\n",
       "\n",
       "    .dataframe thead th {\n",
       "        text-align: right;\n",
       "    }\n",
       "</style>\n",
       "<table border=\"1\" class=\"dataframe\">\n",
       "  <thead>\n",
       "    <tr style=\"text-align: right;\">\n",
       "      <th></th>\n",
       "      <th>pickup_datetime</th>\n",
       "      <th>pickup_latitude</th>\n",
       "      <th>pickup_longitude</th>\n",
       "      <th>base</th>\n",
       "      <th>Nta</th>\n",
       "    </tr>\n",
       "  </thead>\n",
       "  <tbody>\n",
       "    <tr>\n",
       "      <td>0</td>\n",
       "      <td>4/1/14 0:11</td>\n",
       "      <td>40.7690</td>\n",
       "      <td>-73.9549</td>\n",
       "      <td>B02512</td>\n",
       "      <td>NaN</td>\n",
       "    </tr>\n",
       "    <tr>\n",
       "      <td>1</td>\n",
       "      <td>4/1/14 0:17</td>\n",
       "      <td>40.7267</td>\n",
       "      <td>-74.0345</td>\n",
       "      <td>B02512</td>\n",
       "      <td>NaN</td>\n",
       "    </tr>\n",
       "    <tr>\n",
       "      <td>2</td>\n",
       "      <td>4/1/14 0:21</td>\n",
       "      <td>40.7316</td>\n",
       "      <td>-73.9873</td>\n",
       "      <td>B02512</td>\n",
       "      <td>MN22</td>\n",
       "    </tr>\n",
       "    <tr>\n",
       "      <td>3</td>\n",
       "      <td>4/1/14 0:28</td>\n",
       "      <td>40.7588</td>\n",
       "      <td>-73.9776</td>\n",
       "      <td>B02512</td>\n",
       "      <td>MN17</td>\n",
       "    </tr>\n",
       "    <tr>\n",
       "      <td>4</td>\n",
       "      <td>4/1/14 0:33</td>\n",
       "      <td>40.7594</td>\n",
       "      <td>-73.9722</td>\n",
       "      <td>B02512</td>\n",
       "      <td>MN19</td>\n",
       "    </tr>\n",
       "    <tr>\n",
       "      <td>...</td>\n",
       "      <td>...</td>\n",
       "      <td>...</td>\n",
       "      <td>...</td>\n",
       "      <td>...</td>\n",
       "      <td>...</td>\n",
       "    </tr>\n",
       "    <tr>\n",
       "      <td>96</td>\n",
       "      <td>4/1/14 6:56</td>\n",
       "      <td>40.7644</td>\n",
       "      <td>-73.9769</td>\n",
       "      <td>B02512</td>\n",
       "      <td>MN17</td>\n",
       "    </tr>\n",
       "    <tr>\n",
       "      <td>97</td>\n",
       "      <td>4/1/14 6:57</td>\n",
       "      <td>40.7726</td>\n",
       "      <td>-73.9532</td>\n",
       "      <td>B02512</td>\n",
       "      <td>NaN</td>\n",
       "    </tr>\n",
       "    <tr>\n",
       "      <td>98</td>\n",
       "      <td>4/1/14 6:59</td>\n",
       "      <td>40.7898</td>\n",
       "      <td>-73.9661</td>\n",
       "      <td>B02512</td>\n",
       "      <td>MN12</td>\n",
       "    </tr>\n",
       "    <tr>\n",
       "      <td>99</td>\n",
       "      <td>4/1/14 7:00</td>\n",
       "      <td>40.7839</td>\n",
       "      <td>-73.9703</td>\n",
       "      <td>B02512</td>\n",
       "      <td>NaN</td>\n",
       "    </tr>\n",
       "    <tr>\n",
       "      <td>100</td>\n",
       "      <td>4/1/14 7:00</td>\n",
       "      <td>40.7236</td>\n",
       "      <td>-74.0016</td>\n",
       "      <td>B02512</td>\n",
       "      <td>NaN</td>\n",
       "    </tr>\n",
       "  </tbody>\n",
       "</table>\n",
       "<p>101 rows × 5 columns</p>\n",
       "</div>"
      ],
      "text/plain": [
       "    pickup_datetime  pickup_latitude  pickup_longitude    base   Nta\n",
       "0       4/1/14 0:11          40.7690          -73.9549  B02512   NaN\n",
       "1       4/1/14 0:17          40.7267          -74.0345  B02512   NaN\n",
       "2       4/1/14 0:21          40.7316          -73.9873  B02512  MN22\n",
       "3       4/1/14 0:28          40.7588          -73.9776  B02512  MN17\n",
       "4       4/1/14 0:33          40.7594          -73.9722  B02512  MN19\n",
       "..              ...              ...               ...     ...   ...\n",
       "96      4/1/14 6:56          40.7644          -73.9769  B02512  MN17\n",
       "97      4/1/14 6:57          40.7726          -73.9532  B02512   NaN\n",
       "98      4/1/14 6:59          40.7898          -73.9661  B02512  MN12\n",
       "99      4/1/14 7:00          40.7839          -73.9703  B02512   NaN\n",
       "100     4/1/14 7:00          40.7236          -74.0016  B02512   NaN\n",
       "\n",
       "[101 rows x 5 columns]"
      ]
     },
     "execution_count": 11,
     "metadata": {},
     "output_type": "execute_result"
    }
   ],
   "source": [
    "#Verify table integrity\n",
    "df_test"
   ]
  },
  {
   "cell_type": "code",
   "execution_count": 14,
   "metadata": {},
   "outputs": [],
   "source": [
    "#Save datframe with nta labels\n",
    "df_test.to_csv('Uber_2014_nta' + '_' + str(cut_range[0]) + '_' + str(cut_range[1]) + '.csv')"
   ]
  }
 ],
 "metadata": {
  "kernelspec": {
   "display_name": "Python 3",
   "language": "python",
   "name": "python3"
  },
  "language_info": {
   "codemirror_mode": {
    "name": "ipython",
    "version": 3
   },
   "file_extension": ".py",
   "mimetype": "text/x-python",
   "name": "python",
   "nbconvert_exporter": "python",
   "pygments_lexer": "ipython3",
   "version": "3.7.3"
  }
 },
 "nbformat": 4,
 "nbformat_minor": 4
}
