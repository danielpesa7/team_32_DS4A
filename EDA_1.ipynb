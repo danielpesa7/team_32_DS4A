{
 "cells": [
  {
   "cell_type": "code",
   "execution_count": 54,
   "metadata": {},
   "outputs": [],
   "source": [
    "#Import the libraries that we are going to use\n",
    "import pandas as pd\n",
    "import matplotlib.pyplot as plt\n",
    "%matplotlib inline"
   ]
  },
  {
   "cell_type": "code",
   "execution_count": 55,
   "metadata": {},
   "outputs": [],
   "source": [
    "#Read geographic data as pandas dataframe\n",
    "geographics = pd.read_csv('geographic.csv')"
   ]
  },
  {
   "cell_type": "code",
   "execution_count": 69,
   "metadata": {},
   "outputs": [],
   "source": [
    "#Create a dictionary for each NTA with longitude and latitude as values\n",
    "for nta in nta_dictionary:\n",
    "    latitude = []\n",
    "    longitude = [] \n",
    "    for i in geographics.loc[:,nta].values:\n",
    "        if i < 0:\n",
    "            latitude.append(i)\n",
    "        elif i > 0:\n",
    "            longitude.append(i)\n",
    "    nta_dictionary[nta] = [longitude,latitude]"
   ]
  },
  {
   "cell_type": "code",
   "execution_count": 88,
   "metadata": {},
   "outputs": [],
   "source": [
    "def nta_graph(nta):\n",
    "    '''Function to graph the NTA on a scatterplot'''\n",
    "    plt.scatter(nta_dictionary[nta][0],nta_dictionary[nta][1])\n",
    "    plt.xlabel('Longitude')\n",
    "    plt.ylabel('Latitude')\n",
    "    plt.show()"
   ]
  },
  {
   "cell_type": "code",
   "execution_count": 90,
   "metadata": {},
   "outputs": [
    {
     "data": {
      "image/png": "[encoded data removed]",
      "text/plain": [
       "<Figure size 432x288 with 1 Axes>"
      ]
     },
     "metadata": {
      "needs_background": "light"
     },
     "output_type": "display_data"
    }
   ],
   "source": [
    "#Call nta_graph function with the desired NTA\n",
    "nta_graph('BX98')"
   ]
  }
 ],
 "metadata": {
  "kernelspec": {
   "display_name": "Python 3",
   "language": "python",
   "name": "python3"
  },
  "language_info": {
   "codemirror_mode": {
    "name": "ipython",
    "version": 3
   },
   "file_extension": ".py",
   "mimetype": "text/x-python",
   "name": "python",
   "nbconvert_exporter": "python",
   "pygments_lexer": "ipython3",
   "version": "3.7.3"
  }
 },
 "nbformat": 4,
 "nbformat_minor": 4
}
