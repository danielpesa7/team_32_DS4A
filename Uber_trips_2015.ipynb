{
 "cells": [
  {
   "cell_type": "code",
   "execution_count": 1,
   "metadata": {},
   "outputs": [],
   "source": [
    "# Import the Pandas package\n",
    "import pandas as pd\n",
    "# Import the NumPy package\n",
    "import numpy as np\n",
    "import matplotlib.pyplot     as plt\n",
    "import seaborn               as sns\n",
    "import sklearn.metrics       as Metrics\n",
    "\n",
    "import folium  #needed for interactive map\n",
    "from folium.plugins import HeatMap\n",
    "\n",
    "import re\n",
    "\n",
    "\n",
    "%matplotlib inline\n",
    "sns.set()"
   ]
  },
  {
   "cell_type": "code",
   "execution_count": 2,
   "metadata": {},
   "outputs": [],
   "source": [
    "# Load a file as a DataFrame and assign to df\n",
    "green_trips_df = pd.read_csv('uber_trips_2015/uber_trips_2015.csv')"
   ]
  },
  {
   "cell_type": "code",
   "execution_count": 3,
   "metadata": {},
   "outputs": [
    {
     "data": {
      "text/plain": [
       "(14270479, 4)"
      ]
     },
     "execution_count": 3,
     "metadata": {},
     "output_type": "execute_result"
    }
   ],
   "source": [
    "green_trips_df.shape"
   ]
  },
  {
   "cell_type": "code",
   "execution_count": 4,
   "metadata": {},
   "outputs": [
    {
     "data": {
      "text/plain": [
       "Index(['pickup_datetime', 'pickup_location_id', 'dispatch_base',\n",
       "       'affiliate_base'],\n",
       "      dtype='object')"
      ]
     },
     "execution_count": 4,
     "metadata": {},
     "output_type": "execute_result"
    }
   ],
   "source": [
    "green_trips_df.columns"
   ]
  },
  {
   "cell_type": "code",
   "execution_count": 5,
   "metadata": {},
   "outputs": [
    {
     "data": {
      "text/plain": [
       "pickup_datetime            0\n",
       "pickup_location_id         0\n",
       "dispatch_base              0\n",
       "affiliate_base        162195\n",
       "dtype: int64"
      ]
     },
     "execution_count": 5,
     "metadata": {},
     "output_type": "execute_result"
    }
   ],
   "source": [
    "green_trips_df.isnull().sum()"
   ]
  },
  {
   "cell_type": "code",
   "execution_count": 6,
   "metadata": {},
   "outputs": [
    {
     "data": {
      "text/plain": [
       "count     14108284\n",
       "unique         284\n",
       "top         B02764\n",
       "freq       4352321\n",
       "Name: affiliate_base, dtype: object"
      ]
     },
     "execution_count": 6,
     "metadata": {},
     "output_type": "execute_result"
    }
   ],
   "source": [
    "#green_trips_df[['passenger_count', 'trip_distance','total_amount']].describe().apply(\"{0:.2f}\".format)\n",
    "green_trips_df['affiliate_base'].describe()\n",
    "#green_trips_df['total_amount'].quantile(q=0.95)"
   ]
  },
  {
   "cell_type": "code",
   "execution_count": 8,
   "metadata": {},
   "outputs": [],
   "source": [
    "green_trips_df['pickup_datetime_dt'] = pd.to_datetime(green_trips_df['pickup_datetime'])"
   ]
  },
  {
   "cell_type": "code",
   "execution_count": 9,
   "metadata": {},
   "outputs": [
    {
     "data": {
      "text/plain": [
       "count                14270479\n",
       "unique                2744783\n",
       "top       2015-06-27 22:19:00\n",
       "freq                      213\n",
       "Name: pickup_datetime, dtype: object"
      ]
     },
     "execution_count": 9,
     "metadata": {},
     "output_type": "execute_result"
    }
   ],
   "source": [
    "green_trips_df['pickup_datetime'].describe()#.apply(\"{0:.2f}\".format)"
   ]
  },
  {
   "cell_type": "code",
   "execution_count": 10,
   "metadata": {},
   "outputs": [],
   "source": [
    "#green_trips_df['pickup_datetime'].describe()#.apply(\"{0:.2f}\".format)\n",
    "green_trips_df['YYYY'] = green_trips_df['pickup_datetime_dt'].apply(lambda x: x.strftime('%Y') )\n",
    "green_trips_df['MM'] = green_trips_df['pickup_datetime_dt'].apply(lambda x: x.strftime('%m') )"
   ]
  },
  {
   "cell_type": "code",
   "execution_count": 11,
   "metadata": {},
   "outputs": [],
   "source": [
    "green_trips_df['YYYYMM'] = green_trips_df['pickup_datetime'].apply(lambda x: str(x)[0:4] + str(x)[5:7])"
   ]
  },
  {
   "cell_type": "code",
   "execution_count": 12,
   "metadata": {},
   "outputs": [],
   "source": [
    "green_trips_df['DD'] = green_trips_df['pickup_datetime_dt'].apply(lambda x: x.strftime('%d') )"
   ]
  },
  {
   "cell_type": "code",
   "execution_count": 13,
   "metadata": {},
   "outputs": [],
   "source": [
    "green_trips_df['Hour'] = green_trips_df['pickup_datetime_dt'].apply(lambda x: x.strftime('%H'))"
   ]
  },
  {
   "cell_type": "code",
   "execution_count": 14,
   "metadata": {},
   "outputs": [
    {
     "data": {
      "text/plain": [
       "array(['09', '10', '15', '05', '00', '17', '01', '11', '22', '02', '14',\n",
       "       '16', '18', '12', '13', '20', '19', '04', '08', '21', '23', '06',\n",
       "       '03', '07'], dtype=object)"
      ]
     },
     "execution_count": 14,
     "metadata": {},
     "output_type": "execute_result"
    }
   ],
   "source": [
    "#print(re.finditer(r'/',green_trips_df['pickup_datetime'][0])[0])\n",
    "#re.finditer\n",
    "#green_trips_df['pickup_datetime'][0][:green_trips_df['pickup_datetime'][0].find(r'/')]\n",
    "#green_trips_df['pickup_datetime'][0][0]\n",
    "#green_trips_df['pickup_datetime'][0][:green_trips_df['pickup_datetime'][0].find(r'/')]\n",
    "#pd.DataFrame([a[:a.find(r'/')] for a in green_trips_df['pickup_datetime']])[0].unique()\n",
    "#green_trips_df['pickup_datetime'][0].find_all(r'/')\n",
    "green_trips_df['Hour'].unique()"
   ]
  },
  {
   "cell_type": "code",
   "execution_count": 15,
   "metadata": {},
   "outputs": [
    {
     "data": {
      "text/html": [
       "<div>\n",
       "<style scoped>\n",
       "    .dataframe tbody tr th:only-of-type {\n",
       "        vertical-align: middle;\n",
       "    }\n",
       "\n",
       "    .dataframe tbody tr th {\n",
       "        vertical-align: top;\n",
       "    }\n",
       "\n",
       "    .dataframe thead th {\n",
       "        text-align: right;\n",
       "    }\n",
       "</style>\n",
       "<table border=\"1\" class=\"dataframe\">\n",
       "  <thead>\n",
       "    <tr style=\"text-align: right;\">\n",
       "      <th></th>\n",
       "      <th>pickup_datetime</th>\n",
       "      <th>pickup_location_id</th>\n",
       "      <th>dispatch_base</th>\n",
       "      <th>affiliate_base</th>\n",
       "      <th>pickup_datetime_dt</th>\n",
       "      <th>YYYY</th>\n",
       "      <th>MM</th>\n",
       "      <th>YYYYMM</th>\n",
       "      <th>DD</th>\n",
       "      <th>Hour</th>\n",
       "    </tr>\n",
       "  </thead>\n",
       "  <tbody>\n",
       "    <tr>\n",
       "      <td>0</td>\n",
       "      <td>2015-05-17 09:47:00</td>\n",
       "      <td>141</td>\n",
       "      <td>B02617</td>\n",
       "      <td>B02617</td>\n",
       "      <td>2015-05-17 09:47:00</td>\n",
       "      <td>2015</td>\n",
       "      <td>05</td>\n",
       "      <td>201505</td>\n",
       "      <td>17</td>\n",
       "      <td>09</td>\n",
       "    </tr>\n",
       "    <tr>\n",
       "      <td>1</td>\n",
       "      <td>2015-05-17 09:47:00</td>\n",
       "      <td>65</td>\n",
       "      <td>B02617</td>\n",
       "      <td>B02617</td>\n",
       "      <td>2015-05-17 09:47:00</td>\n",
       "      <td>2015</td>\n",
       "      <td>05</td>\n",
       "      <td>201505</td>\n",
       "      <td>17</td>\n",
       "      <td>09</td>\n",
       "    </tr>\n",
       "    <tr>\n",
       "      <td>2</td>\n",
       "      <td>2015-05-17 09:47:00</td>\n",
       "      <td>100</td>\n",
       "      <td>B02617</td>\n",
       "      <td>B02617</td>\n",
       "      <td>2015-05-17 09:47:00</td>\n",
       "      <td>2015</td>\n",
       "      <td>05</td>\n",
       "      <td>201505</td>\n",
       "      <td>17</td>\n",
       "      <td>09</td>\n",
       "    </tr>\n",
       "    <tr>\n",
       "      <td>3</td>\n",
       "      <td>2015-05-17 09:47:00</td>\n",
       "      <td>80</td>\n",
       "      <td>B02617</td>\n",
       "      <td>B02774</td>\n",
       "      <td>2015-05-17 09:47:00</td>\n",
       "      <td>2015</td>\n",
       "      <td>05</td>\n",
       "      <td>201505</td>\n",
       "      <td>17</td>\n",
       "      <td>09</td>\n",
       "    </tr>\n",
       "    <tr>\n",
       "      <td>4</td>\n",
       "      <td>2015-05-17 09:47:00</td>\n",
       "      <td>90</td>\n",
       "      <td>B02617</td>\n",
       "      <td>B02617</td>\n",
       "      <td>2015-05-17 09:47:00</td>\n",
       "      <td>2015</td>\n",
       "      <td>05</td>\n",
       "      <td>201505</td>\n",
       "      <td>17</td>\n",
       "      <td>09</td>\n",
       "    </tr>\n",
       "  </tbody>\n",
       "</table>\n",
       "</div>"
      ],
      "text/plain": [
       "       pickup_datetime  pickup_location_id dispatch_base affiliate_base  \\\n",
       "0  2015-05-17 09:47:00                 141        B02617         B02617   \n",
       "1  2015-05-17 09:47:00                  65        B02617         B02617   \n",
       "2  2015-05-17 09:47:00                 100        B02617         B02617   \n",
       "3  2015-05-17 09:47:00                  80        B02617         B02774   \n",
       "4  2015-05-17 09:47:00                  90        B02617         B02617   \n",
       "\n",
       "   pickup_datetime_dt  YYYY  MM  YYYYMM  DD Hour  \n",
       "0 2015-05-17 09:47:00  2015  05  201505  17   09  \n",
       "1 2015-05-17 09:47:00  2015  05  201505  17   09  \n",
       "2 2015-05-17 09:47:00  2015  05  201505  17   09  \n",
       "3 2015-05-17 09:47:00  2015  05  201505  17   09  \n",
       "4 2015-05-17 09:47:00  2015  05  201505  17   09  "
      ]
     },
     "execution_count": 15,
     "metadata": {},
     "output_type": "execute_result"
    }
   ],
   "source": [
    "green_trips_df.head()"
   ]
  },
  {
   "cell_type": "code",
   "execution_count": 16,
   "metadata": {},
   "outputs": [
    {
     "data": {
      "image/png": "[encoded data removed]",
      "text/plain": [
       "<Figure size 1440x720 with 5 Axes>"
      ]
     },
     "metadata": {
      "needs_background": "light"
     },
     "output_type": "display_data"
    }
   ],
   "source": [
    "plt.figure(figsize=(20,10))\n",
    "vars_to_plot = ['YYYY', 'YYYYMM', 'MM', 'DD', 'Hour']\n",
    "for i, var in enumerate(vars_to_plot):\n",
    "    plt.subplot(3, 2,i+1)\n",
    "    plt.hist(green_trips_df[var],10)\n",
    "    title_string = \"Histogram of \" + var\n",
    "    plt.title(title_string)"
   ]
  },
  {
   "cell_type": "code",
   "execution_count": 17,
   "metadata": {},
   "outputs": [
    {
     "data": {
      "text/plain": [
       "(array([1357019., 1311730., 1358425., 1387699., 1467696., 1465431.,\n",
       "        1497775., 1404205., 1434907., 1585592.]),\n",
       " array([ 0.,  3.,  6.,  9., 12., 15., 18., 21., 24., 27., 30.]),\n",
       " <a list of 10 Patch objects>)"
      ]
     },
     "execution_count": 17,
     "metadata": {},
     "output_type": "execute_result"
    },
    {
     "data": {
      "image/png": "[encoded data removed]",
      "text/plain": [
       "<Figure size 864x720 with 1 Axes>"
      ]
     },
     "metadata": {
      "needs_background": "light"
     },
     "output_type": "display_data"
    }
   ],
   "source": [
    "plt.figure(figsize=(12,10))\n",
    "plt.hist(green_trips_df['DD'].sort_values())"
   ]
  },
  {
   "cell_type": "code",
   "execution_count": null,
   "metadata": {},
   "outputs": [],
   "source": []
  }
 ],
 "metadata": {
  "kernelspec": {
   "display_name": "Python 3",
   "language": "python",
   "name": "python3"
  },
  "language_info": {
   "codemirror_mode": {
    "name": "ipython",
    "version": 3
   },
   "file_extension": ".py",
   "mimetype": "text/x-python",
   "name": "python",
   "nbconvert_exporter": "python",
   "pygments_lexer": "ipython3",
   "version": "3.7.3"
  }
 },
 "nbformat": 4,
 "nbformat_minor": 4
}
