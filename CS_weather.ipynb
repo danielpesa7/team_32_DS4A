{
 "cells": [
  {
   "cell_type": "code",
   "execution_count": 34,
   "metadata": {},
   "outputs": [],
   "source": [
    "import pandas as pd\n",
    "import numpy as np\n",
    "import matplotlib.pyplot as plt\n",
    "import numpy as np\n",
    "import pandas as pd\n",
    "import shapely\n",
    "from shapely import geometry\n",
    "from shapely.geometry import Point, Polygon\n",
    "%matplotlib inline"
   ]
  },
  {
   "cell_type": "code",
   "execution_count": 62,
   "metadata": {},
   "outputs": [],
   "source": [
    "# Load the raw data into Python\n",
    "#DFdemographics = pd.read_csv('demographics.csv', delimiter=',')\n",
    "DFgeographic = pd.read_csv('geographic.csv', delimiter=',')\n",
    "#DFgreen_trips_new_2 = pd.read_csv('green_trips_new_2.csv', delimiter=',')\n",
    "#DF_mta_trips = pd.read_csv('mta_trips.csv', delimiter=',')\n",
    "DFuber_trips_2014 = pd.read_csv('uber_trips_2014.csv', delimiter=',')\n",
    "#DFuber_trips_2015 = pd.read_csv('uber_trips_2015.csv', delimiter=',')\n",
    "DFweather = pd.read_csv('weather.csv', delimiter=',')\n",
    "#DFyellow_trips_new = pd.read_csv('yellow_trips_new.csv', delimiter=',')\n",
    "#DFzones = pd.read_csv('zones.csv', delimiter=',')"
   ]
  },
  {
   "cell_type": "code",
   "execution_count": 36,
   "metadata": {},
   "outputs": [],
   "source": [
    "def convertir_geographic_a_lista_NTAs_poligonos():\n",
    "\n",
    "    for codigo_4_letras in DFgeographic.columns:\n",
    "        ListaPuntos = []\n",
    "\n",
    "        Longitudes = np.array(DFgeographic[codigo_4_letras].iloc[0::2]) # Longitudes\n",
    "        Longitudes = Longitudes[~np.isnan(Longitudes)] # Extraer solamente valores que no sean nan\n",
    "\n",
    "        Latitudes = np.array(DFgeographic[codigo_4_letras].iloc[1::2]) # Latitudes\n",
    "        Latitudes = Latitudes[~np.isnan(Latitudes)] # Extraer solamente valores que no sean nan\n",
    "\n",
    "        # Armar lista de puntos (geometry.Point)\n",
    "        for i in range(0,len(Longitudes)):\n",
    "            ListaPuntos.append(geometry.Point(Longitudes[i],Latitudes[i]))    \n",
    "\n",
    "        poligono = geometry.Polygon([[p.x, p.y] for p in ListaPuntos])\n",
    "\n",
    "        ListaNTAsPoligonos.append([codigo_4_letras, poligono])\n"
   ]
  },
  {
   "cell_type": "code",
   "execution_count": 43,
   "metadata": {},
   "outputs": [],
   "source": [
    "ListaNTAsPoligonos = []\n",
    "convertir_geographic_a_lista_NTAs_poligonos()"
   ]
  },
  {
   "cell_type": "code",
   "execution_count": 39,
   "metadata": {},
   "outputs": [
    {
     "data": {
      "text/plain": [
       "195"
      ]
     },
     "execution_count": 39,
     "metadata": {},
     "output_type": "execute_result"
    }
   ],
   "source": [
    "len(ListaNTAsPoligonos)"
   ]
  },
  {
   "cell_type": "code",
   "execution_count": 6,
   "metadata": {},
   "outputs": [
    {
     "data": {
      "text/plain": [
       "(9302, 195)"
      ]
     },
     "execution_count": 6,
     "metadata": {},
     "output_type": "execute_result"
    }
   ],
   "source": [
    "DFgeographic.shape"
   ]
  },
  {
   "cell_type": "code",
   "execution_count": 73,
   "metadata": {},
   "outputs": [
    {
     "name": "stdout",
     "output_type": "stream",
     "text": [
      "Wall time: 37.9 s\n"
     ]
    }
   ],
   "source": [
    "%%time\n",
    "for index, row in DFuber_trips_2014.head(10000).iterrows():    \n",
    "    punto = geometry.Point(row['pickup_longitude'],row['pickup_latitude'])\n",
    "    #print(punto)\n",
    "    for j in ListaNTAsPoligonos:\n",
    "        if j[1].contains(punto):\n",
    "            row['NTA'] = j[0]\n",
    "            #print('Found!')\n",
    "            #print(row['NTA'])\n",
    "            break\n"
   ]
  },
  {
   "cell_type": "code",
   "execution_count": 68,
   "metadata": {},
   "outputs": [
    {
     "data": {
      "text/html": [
       "<div>\n",
       "<style scoped>\n",
       "    .dataframe tbody tr th:only-of-type {\n",
       "        vertical-align: middle;\n",
       "    }\n",
       "\n",
       "    .dataframe tbody tr th {\n",
       "        vertical-align: top;\n",
       "    }\n",
       "\n",
       "    .dataframe thead th {\n",
       "        text-align: right;\n",
       "    }\n",
       "</style>\n",
       "<table border=\"1\" class=\"dataframe\">\n",
       "  <thead>\n",
       "    <tr style=\"text-align: right;\">\n",
       "      <th></th>\n",
       "      <th>pickup_datetime</th>\n",
       "      <th>pickup_latitude</th>\n",
       "      <th>pickup_longitude</th>\n",
       "      <th>base</th>\n",
       "    </tr>\n",
       "  </thead>\n",
       "  <tbody>\n",
       "    <tr>\n",
       "      <td>0</td>\n",
       "      <td>4/1/14 0:11</td>\n",
       "      <td>40.7690</td>\n",
       "      <td>-73.9549</td>\n",
       "      <td>B02512</td>\n",
       "    </tr>\n",
       "    <tr>\n",
       "      <td>1</td>\n",
       "      <td>4/1/14 0:17</td>\n",
       "      <td>40.7267</td>\n",
       "      <td>-74.0345</td>\n",
       "      <td>B02512</td>\n",
       "    </tr>\n",
       "    <tr>\n",
       "      <td>2</td>\n",
       "      <td>4/1/14 0:21</td>\n",
       "      <td>40.7316</td>\n",
       "      <td>-73.9873</td>\n",
       "      <td>B02512</td>\n",
       "    </tr>\n",
       "    <tr>\n",
       "      <td>3</td>\n",
       "      <td>4/1/14 0:28</td>\n",
       "      <td>40.7588</td>\n",
       "      <td>-73.9776</td>\n",
       "      <td>B02512</td>\n",
       "    </tr>\n",
       "    <tr>\n",
       "      <td>4</td>\n",
       "      <td>4/1/14 0:33</td>\n",
       "      <td>40.7594</td>\n",
       "      <td>-73.9722</td>\n",
       "      <td>B02512</td>\n",
       "    </tr>\n",
       "    <tr>\n",
       "      <td>...</td>\n",
       "      <td>...</td>\n",
       "      <td>...</td>\n",
       "      <td>...</td>\n",
       "      <td>...</td>\n",
       "    </tr>\n",
       "    <tr>\n",
       "      <td>4534322</td>\n",
       "      <td>9/30/2014 22:57:00</td>\n",
       "      <td>40.7668</td>\n",
       "      <td>-73.9845</td>\n",
       "      <td>B02764</td>\n",
       "    </tr>\n",
       "    <tr>\n",
       "      <td>4534323</td>\n",
       "      <td>9/30/2014 22:57:00</td>\n",
       "      <td>40.6911</td>\n",
       "      <td>-74.1773</td>\n",
       "      <td>B02764</td>\n",
       "    </tr>\n",
       "    <tr>\n",
       "      <td>4534324</td>\n",
       "      <td>9/30/2014 22:58:00</td>\n",
       "      <td>40.8519</td>\n",
       "      <td>-73.9319</td>\n",
       "      <td>B02764</td>\n",
       "    </tr>\n",
       "    <tr>\n",
       "      <td>4534325</td>\n",
       "      <td>9/30/2014 22:58:00</td>\n",
       "      <td>40.7081</td>\n",
       "      <td>-74.0066</td>\n",
       "      <td>B02764</td>\n",
       "    </tr>\n",
       "    <tr>\n",
       "      <td>4534326</td>\n",
       "      <td>9/30/2014 22:58:00</td>\n",
       "      <td>40.7140</td>\n",
       "      <td>-73.9496</td>\n",
       "      <td>B02764</td>\n",
       "    </tr>\n",
       "  </tbody>\n",
       "</table>\n",
       "<p>4534327 rows × 4 columns</p>\n",
       "</div>"
      ],
      "text/plain": [
       "            pickup_datetime  pickup_latitude  pickup_longitude    base\n",
       "0               4/1/14 0:11          40.7690          -73.9549  B02512\n",
       "1               4/1/14 0:17          40.7267          -74.0345  B02512\n",
       "2               4/1/14 0:21          40.7316          -73.9873  B02512\n",
       "3               4/1/14 0:28          40.7588          -73.9776  B02512\n",
       "4               4/1/14 0:33          40.7594          -73.9722  B02512\n",
       "...                     ...              ...               ...     ...\n",
       "4534322  9/30/2014 22:57:00          40.7668          -73.9845  B02764\n",
       "4534323  9/30/2014 22:57:00          40.6911          -74.1773  B02764\n",
       "4534324  9/30/2014 22:58:00          40.8519          -73.9319  B02764\n",
       "4534325  9/30/2014 22:58:00          40.7081          -74.0066  B02764\n",
       "4534326  9/30/2014 22:58:00          40.7140          -73.9496  B02764\n",
       "\n",
       "[4534327 rows x 4 columns]"
      ]
     },
     "execution_count": 68,
     "metadata": {},
     "output_type": "execute_result"
    }
   ],
   "source": [
    " DFuber_trips_2014[]"
   ]
  },
  {
   "cell_type": "code",
   "execution_count": 61,
   "metadata": {},
   "outputs": [],
   "source": [
    "#punto = geometry.Point(40.647490,-73.779982)\n",
    "#punto = geometry.Point(40.776927,-73.873966)\n",
    "punto = geometry.Point(40.771133,-73.974187)\n",
    "\n",
    "for i in ListaNTAsPoligonos:\n",
    "    if i[1].contains(punto):\n",
    "        print(\"Bien!\")\n",
    "    \n",
    "    \n",
    "#print(ListaNTAsPoligonos[0][1].contains(punto))\n",
    "\n",
    "#print(geometry.Point(-73.9760507905698,40.6312841471042))\n",
    "#print(ListaNTAsPoligonos[0][1])"
   ]
  },
  {
   "cell_type": "code",
   "execution_count": 54,
   "metadata": {},
   "outputs": [
    {
     "data": {
      "text/html": [
       "<div>\n",
       "<style scoped>\n",
       "    .dataframe tbody tr th:only-of-type {\n",
       "        vertical-align: middle;\n",
       "    }\n",
       "\n",
       "    .dataframe tbody tr th {\n",
       "        vertical-align: top;\n",
       "    }\n",
       "\n",
       "    .dataframe thead th {\n",
       "        text-align: right;\n",
       "    }\n",
       "</style>\n",
       "<table border=\"1\" class=\"dataframe\">\n",
       "  <thead>\n",
       "    <tr style=\"text-align: right;\">\n",
       "      <th></th>\n",
       "      <th>latitude</th>\n",
       "      <th>longitude</th>\n",
       "    </tr>\n",
       "  </thead>\n",
       "  <tbody>\n",
       "    <tr>\n",
       "      <td>0</td>\n",
       "      <td>40.647490</td>\n",
       "      <td>-73.779982</td>\n",
       "    </tr>\n",
       "    <tr>\n",
       "      <td>730</td>\n",
       "      <td>40.776927</td>\n",
       "      <td>-73.873966</td>\n",
       "    </tr>\n",
       "    <tr>\n",
       "      <td>1460</td>\n",
       "      <td>40.771133</td>\n",
       "      <td>-73.974187</td>\n",
       "    </tr>\n",
       "  </tbody>\n",
       "</table>\n",
       "</div>"
      ],
      "text/plain": [
       "       latitude  longitude\n",
       "0     40.647490 -73.779982\n",
       "730   40.776927 -73.873966\n",
       "1460  40.771133 -73.974187"
      ]
     },
     "execution_count": 54,
     "metadata": {},
     "output_type": "execute_result"
    }
   ],
   "source": [
    "DFweather[['latitude','longitude']].drop_duplicates()"
   ]
  },
  {
   "cell_type": "code",
   "execution_count": null,
   "metadata": {},
   "outputs": [],
   "source": []
  }
 ],
 "metadata": {
  "kernelspec": {
   "display_name": "Python 3",
   "language": "python",
   "name": "python3"
  },
  "language_info": {
   "codemirror_mode": {
    "name": "ipython",
    "version": 3
   },
   "file_extension": ".py",
   "mimetype": "text/x-python",
   "name": "python",
   "nbconvert_exporter": "python",
   "pygments_lexer": "ipython3",
   "version": "3.7.3"
  }
 },
 "nbformat": 4,
 "nbformat_minor": 4
}
