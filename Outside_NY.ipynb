{
 "cells": [
  {
   "cell_type": "code",
   "execution_count": null,
   "metadata": {},
   "outputs": [],
   "source": [
    "import pandas as pd\n",
    "import numpy as np\n",
    "from shapely import Polygon, Point\n",
    "import geopandas as gpd\n",
    "import matplotlib.pyplot as plt"
   ]
  },
  {
   "cell_type": "code",
   "execution_count": null,
   "metadata": {},
   "outputs": [],
   "source": [
    "# =============================================================================\n",
    "# Data\n",
    "# =============================================================================\n",
    "path = \"C:\\\\Users\\HP\\Desktop\\DS4A_workspace\\Semana 1\\Dataset\\Dataset\"\n",
    "\n",
    "geografia = pd.read_csv(path+'geographic.csv')"
   ]
  },
  {
   "cell_type": "code",
   "execution_count": null,
   "metadata": {},
   "outputs": [],
   "source": [
    "NTAs = geografia.columns\n",
    "conte = []\n",
    "for i in range(0,len(NTAs)):\n",
    "    temp = geografia[NTAs[i]][pd.isna(geografia[NTAs[i]])!=True]\n",
    "    pares = np.arange(0,len(temp)/2)*2\n",
    "    impares = np.arange(0,len(temp)/2)*2+1\n",
    "    name = NTAs[i]\n",
    "    temp_1 = [temp[i] for i in pares]\n",
    "    temp_2 = [temp[i] for i in impares]    \n",
    "    geom = Polygon(zip(temp_1,temp_2))\n",
    "    conte.append([name,geom])\n",
    "    \n",
    "NY_poly = gpd.GeoDataFrame(columns=['Nombre','Geometria'], data=conte, geometry='Geometria')"
   ]
  },
  {
   "cell_type": "code",
   "execution_count": null,
   "metadata": {},
   "outputs": [],
   "source": [
    "esta_NY = [sum(NY_poly.contains(Point(yellow['pickup_longitude'][a],yellow['pickup_latitude'][a])))==1 for a in range(0,100000)]\n",
    "fuera = yellow[['pickup_longitude','pickup_latitude']][0:100000][np.where(np.array(esta_NY)==0, True, False)]"
   ]
  },
  {
   "cell_type": "code",
   "execution_count": null,
   "metadata": {},
   "outputs": [],
   "source": [
    "NY_poly.plot()\n",
    "plt.scatter(fuera['pickup_longitude'],fuera['pickup_latitude'], color='red')"
   ]
  }
 ],
 "metadata": {
  "kernelspec": {
   "display_name": "Python 3",
   "language": "python",
   "name": "python3"
  },
  "language_info": {
   "codemirror_mode": {
    "name": "ipython",
    "version": 3
   },
   "file_extension": ".py",
   "mimetype": "text/x-python",
   "name": "python",
   "nbconvert_exporter": "python",
   "pygments_lexer": "ipython3",
   "version": "3.7.3"
  }
 },
 "nbformat": 4,
 "nbformat_minor": 4
}
